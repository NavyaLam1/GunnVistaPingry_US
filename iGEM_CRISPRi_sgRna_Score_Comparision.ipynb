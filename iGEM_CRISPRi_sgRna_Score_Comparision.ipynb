{
 "cells": [
  {
   "cell_type": "markdown",
   "metadata": {},
   "source": [
    "1. Learning sgRNA predictors from empirical data\n",
    "    * Load scripts and empirical data\n",
    "    * Generate TSS annotation using FANTOM dataset\n",
    "    * Calculate parameters for empirical sgRNAs\n",
    "    * Fit parameters\n",
    "2. Applying machine learning model to predict sgRNA activity\n",
    "    * Find all sgRNAs in genomic regions of interest \n",
    "    * Predicting sgRNA activity\n",
    "3. Construct sgRNA libraries\n",
    "    * Score sgRNAs for off-target potential\n",
    "* Pick the top sgRNAs for a library, given predicted activity scores and off-target filtering\n",
    "* Design negative controls matching the base composition of the library\n",
    "* Finalizing library design"
   ]
  },
  {
   "cell_type": "markdown",
   "metadata": {},
   "source": [
    "# 1. Learning sgRNA predictors from empirical data\n",
    "## Load scripts and empirical data"
   ]
  },
  {
   "cell_type": "code",
   "execution_count": null,
   "metadata": {
    "scrolled": true
   },
   "outputs": [],
   "source": [
    "#modify below variable to point to the base directory containing large genome data files\n",
    "GENES_LIST_TO_COMPARE = ['AP2A2','EIF4G1','EIF4G2','EIF4G3','FMR1','FXR1','FXR2','GNB2L1','IDE','METTL3','PRRC2A','PRRC2B','PRRC2C','SFPQ','YTHDF1','YTHDF2','YTHDF3','ZCCHC6']\n",
    "\n",
    "LARGE_FILE_DIR= '../../../../data/'\n",
    "\n",
    "FASTA_FILE_OF_GENOME= LARGE_FILE_DIR + 'large_data_files/hg19.fa'\n",
    "GTF_FILE_FROM_GENCODE = LARGE_FILE_DIR + 'large_data_files/gencode.v19.annotation.gtf'\n",
    "\n",
    "TSS_TABLE_PATH='data_files/human_tssTable.txt'\n",
    "P1P2_TABLE_PATH='data_files/human_p1p2Table.txt'\n",
    "\n",
    "FANTOM_TSS_ANNOTATION_BED= LARGE_FILE_DIR + 'large_data_files/TSS_human.sorted.bed.gz'\n",
    "HGNC_SYMBOL_LOOKUP_TABLE= LARGE_FILE_DIR + 'large_data_files/hgnc_complete_set_2020-08-01.txt'\n",
    "\n",
    "#spreadsheet containing the lab experiment data to train the model\n",
    "IGEM_EXCEL_FILE= LARGE_FILE_DIR + 'large_data_files/Sam_Perli_qRT_pcr_data_per_gene.xlsx'\n",
    "\n",
    "\n",
    "PICKLE_FILE = 'igem_v1_estimator'\n",
    "TRANSFORMED_PARAM_HEADER='igem_v1_transformed_param_header'\n",
    "\n",
    "PREDICTED_SCORE_TABLE='igem_v1_predicted_score_table'\n",
    "TEMP_FASTQ_FILE='igem_v1_temp_fastq_file'\n",
    "\n",
    "\n",
    "%run sgRNA_learning.py"
   ]
  },
  {
   "cell_type": "code",
   "execution_count": null,
   "metadata": {},
   "outputs": [],
   "source": [
    "#read the experiment data\n",
    "df=pd.read_excel(open(IGEM_EXCEL_FILE, 'rb'),\n",
    "              sheet_name='Sheet1')  \n",
    "df =df.dropna( subset = ['sgID'])\n",
    "\n",
    "df_research = df\n"
   ]
  },
  {
   "cell_type": "code",
   "execution_count": null,
   "metadata": {},
   "outputs": [],
   "source": [
    "libraryTable_research = df[['sgID','gene','transcript','protospacer sequence']]\n",
    "libraryTable_research= libraryTable_research.loc[1:,].set_index('sgID').rename(columns={'protospacer sequence':'sequence','transcript':'transcripts'})\n",
    "\n",
    "#Select all genes except last one\n",
    "libraryTable_subset = libraryTable_research.loc[libraryTable_research['gene'].isin(GENES_LIST_TO_COMPARE)]\n",
    "#Read sgID\n",
    "sgInfoTable = parseAllSgIds(libraryTable_subset)\n",
    "\n",
    "#Read scores measured in the lab\n",
    "normedScores = df[['sgID','gene','Measured by Dr. Perli']].loc[1:,]\n",
    "normedScores = normedScores.loc[normedScores['gene'].isin(GENES_LIST_TO_COMPARE)]\n",
    "\n",
    "#normedScores['Measured by Dr. Perli']= np.log10(1/normedScores['Measured by Dr. Perli'])\n",
    "#For the CRISPRi scores measured in the Dr. Perli's lab with qRT-PCR lower the score better the guide, but in our model we will be predicting in such a way that better the score better the guide\n",
    "#Subtract the scores measured in lab from 1\n",
    "normedScores['Measured by Dr. Perli']= 1-normedScores['Measured by Dr. Perli']\n",
    "normedScores = normedScores [['sgID','Measured by Dr. Perli']].set_index('sgID').rename(columns={'Measured by Dr. Perli':''})\n"
   ]
  },
  {
   "cell_type": "markdown",
   "metadata": {
    "collapsed": true
   },
   "source": [
    "# 2. Applying machine learning model to predict sgRNA activity"
   ]
  },
  {
   "cell_type": "code",
   "execution_count": null,
   "metadata": {},
   "outputs": [],
   "source": [
    "#starting from a new session for demonstration purposes:\n",
    "#Here we load our trained model\n",
    "import _pickle as cPickle\n",
    "\n",
    "#load tssTable, p1p2Table, genome sequence, chromatin data\n",
    "tssTable = pd.read_csv(TSS_TABLE_PATH,sep='\\t', index_col=[0,1])\n",
    "\n",
    "p1p2Table = pd.read_csv(P1P2_TABLE_PATH,sep='\\t', header=0, index_col=[0,1])\n",
    "p1p2Table['primary TSS'] = p1p2Table['primary TSS'].apply(lambda tupString: (int(float(tupString.strip('()').split(', ')[0])), int(float(tupString.strip('()').split(', ')[1]))))\n",
    "p1p2Table['secondary TSS'] = p1p2Table['secondary TSS'].apply(lambda tupString: (int(float(tupString.strip('()').split(', ')[0])),int(float(tupString.strip('()').split(', ')[1]))))\n",
    "\n",
    "genomeDict = loadGenomeAsDict(FASTA_FILE_OF_GENOME)\n",
    "\n",
    "bwhandleDict = {'dnase':BigWigFile(open(LARGE_FILE_DIR + 'large_data_files/wgEncodeOpenChromDnaseK562BaseOverlapSignalV2.bigWig','rb')),\n",
    "'faire':BigWigFile(open(LARGE_FILE_DIR + 'large_data_files/wgEncodeOpenChromFaireK562Sig.bigWig','rb')),\n",
    "'mnase':BigWigFile(open(LARGE_FILE_DIR + 'large_data_files/wgEncodeSydhNsomeK562Sig.bigWig','rb'))}\n",
    "\n",
    "#load sgRNA prediction model saved after the parameter fitting step\n",
    "with open(PICKLE_FILE,'rb') as infile:\n",
    "    fitTable, estimators, scaler, reg, (geneFold_train, geneFold_test) = cPickle.load(infile)\n",
    "    \n",
    "#transformedParamHeader = pd.read_csv(TRANSFORMED_PARAM_HEADER,sep='\\t')\n",
    "\n",
    "#iGEM read the binary file\n",
    "#transformedParamHeader = pd.read_csv(TRANSFORMED_PARAM_HEADER,sep='\\t')\n",
    "\n",
    "with open(TRANSFORMED_PARAM_HEADER,'rb') as paraminfile:\n",
    "    transformedParamHeader = cPickle.load(paraminfile)\n",
    "\n",
    "transformedParams_train = transformedParamHeader"
   ]
  },
  {
   "cell_type": "markdown",
   "metadata": {},
   "source": [
    "## Find all sgRNAs in genomic regions of interest "
   ]
  },
  {
   "cell_type": "code",
   "execution_count": null,
   "metadata": {},
   "outputs": [],
   "source": [
    "#For IGEM for now try to score the training data itself.\n",
    "\n",
    "#Select excluded gene fron training set\n",
    "libraryTable_new = libraryTable_subset\n",
    "#libraryTable_subset = libraryTable_research\n",
    "sgInfoTable_new = parseAllSgIds(libraryTable_new)"
   ]
  },
  {
   "cell_type": "code",
   "execution_count": null,
   "metadata": {},
   "outputs": [],
   "source": [
    "libraryTable_new.head()\n"
   ]
  },
  {
   "cell_type": "markdown",
   "metadata": {},
   "source": [
    "## Predicting sgRNA activity"
   ]
  },
  {
   "cell_type": "code",
   "execution_count": null,
   "metadata": {},
   "outputs": [],
   "source": [
    "#calculate parameters for new sgRNAs\n",
    "paramTable_new = generateTypicalParamTableEx(libraryTable_new, sgInfoTable_new, tssTable, p1p2Table, genomeDict, bwhandleDict)"
   ]
  },
  {
   "cell_type": "code",
   "execution_count": null,
   "metadata": {},
   "outputs": [],
   "source": [
    "#transform and predict scores according to sgRNA prediction model\n",
    "transformedParams_new = transformParams(paramTable_new, fitTable, estimators)\n",
    "\n",
    "#reconcile any differences in column headers generated by automated binning\n",
    "colTups = []\n",
    "for (l1, l2), col in transformedParams_new.iteritems():\n",
    "    colTups.append((l1,str(l2)))\n",
    "transformedParams_new.columns = pd.MultiIndex.from_tuples(colTups)\n",
    "#iGEM in python 3 .loc with missing column headers is giving issues. So changing it to reindex # can use transformedParams_train if running sequentially otherwise use transformedParamHeader after running above step\n",
    "#predictedScores_new = pd.Series(reg.predict(scaler.transform(transformedParams_new.loc[:, transformedParamHeader.columns].fillna(0).values)), index=transformedParams_new.index)\n",
    "#predictedScores_new = pd.Series(reg.predict(scaler.transform(transformedParams_new.reindex(columns=transformedParamHeader.columns).fillna(0).values)), index=transformedParams_new.index)\n",
    "predictedScores_new = pd.Series(reg.predict(scaler.transform(transformedParams_new.reindex(columns=transformedParams_train.columns).fillna(0).values)), index=transformedParams_new.index)"
   ]
  },
  {
   "cell_type": "code",
   "execution_count": null,
   "metadata": {},
   "outputs": [],
   "source": [
    "predictedScores_new.head()"
   ]
  },
  {
   "cell_type": "code",
   "execution_count": null,
   "metadata": {},
   "outputs": [],
   "source": [
    "#Run this cell to create a comparison matrix of the scores measured in the lab: Weissman v iGEM model\n",
    "compData = df_research\n",
    "compData=compData.set_index('sgID')\n",
    "\n",
    "compData['Measured by Dr. Perli']= 1-compData['Measured by Dr. Perli']\n",
    "\n",
    "#compData['predicted score'] = compData['empirical score'] if compData['empirical score']>0 else compData['predicted score']\n",
    "\n",
    "compData['predicted score']  = np.where(compData['empirical score']>0, compData['empirical score'],compData['predicted score'])\n",
    "\n",
    "compData = compData.loc[predictedScores_new.index]\n",
    "compData['Dr. Perli rank']=compData.groupby(['gene'])['Measured by Dr. Perli'].rank()\n",
    "compData['iGem score']=predictedScores_new\n",
    "compData['iGem rank']=compData.groupby(['gene'])['iGem score'].rank(ascending=False)\n",
    "compData.filter(regex='sgId')\n",
    "compData= compData.filter(regex='gene|.*rank|.*score|Me.*|.*rank')\n",
    "compData\n"
   ]
  },
  {
   "cell_type": "code",
   "execution_count": null,
   "metadata": {},
   "outputs": [],
   "source": [
    "from sklearn.metrics import mean_tweedie_deviance\n",
    "\n",
    "print ('Compare Deviance of Weissman and iGem From Lab Scores Lower the value, better the model\\n')\n",
    "compStudy=pd.DataFrame(columns=['Gene','Weissman','iGEM'])\n",
    "for gene in GENES_LIST_TO_COMPARE:\n",
    "    compGroupData = compData.loc[compData['gene'] == gene] \n",
    "    lab_scores =compGroupData['Measured by Dr. Perli'].values\n",
    "    weissman_scores = compGroupData['predicted score'].values\n",
    "    iGem_scores = compGroupData['iGem score'].values\n",
    "    compStudy=compStudy.append({'Gene':gene, 'Weissman':mean_tweedie_deviance(lab_scores, weissman_scores,power=0),'iGEM':mean_tweedie_deviance(lab_scores, iGem_scores,power=0)},ignore_index=True)\n",
    "    \n",
    "print(compStudy)    \n",
    "    \n"
   ]
  },
  {
   "cell_type": "code",
   "execution_count": null,
   "metadata": {},
   "outputs": [],
   "source": [
    "compStudy"
   ]
  }
 ],
 "metadata": {
  "kernelspec": {
   "display_name": "Python 3",
   "language": "python",
   "name": "python3"
  },
  "language_info": {
   "codemirror_mode": {
    "name": "ipython",
    "version": 3
   },
   "file_extension": ".py",
   "mimetype": "text/x-python",
   "name": "python",
   "nbconvert_exporter": "python",
   "pygments_lexer": "ipython3",
   "version": "3.8.5"
  }
 },
 "nbformat": 4,
 "nbformat_minor": 1
}
